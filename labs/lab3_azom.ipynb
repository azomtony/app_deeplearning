{
  "cells": [
    {
      "cell_type": "code",
      "execution_count": 37,
      "metadata": {
        "colab": {
          "base_uri": "https://localhost:8080/"
        },
        "id": "wkoV4iraq0b5",
        "outputId": "f99aad7d-58e5-4da3-cab5-78d3c2ed2889"
      },
      "outputs": [
        {
          "name": "stdout",
          "output_type": "stream",
          "text": [
            "Populating the interactive namespace from numpy and matplotlib\n"
          ]
        }
      ],
      "source": [
        "%pylab inline"
      ]
    },
    {
      "cell_type": "code",
      "execution_count": 1,
      "metadata": {
        "id": "gPYLC2qVMwMm"
      },
      "outputs": [],
      "source": [
        "import torch\n",
        "import torch.nn as nn"
      ]
    },
    {
      "cell_type": "markdown",
      "metadata": {
        "id": "5kdQO3g_q0b9"
      },
      "source": [
        "### Task 1\n",
        "\n",
        "Write a function **word_2_vec(L)**. It takes a list L of strings (you can assume that the strings contain only lower-case letters, no number or special characters), and translate each string into a matrx (2d array) of nx26 where n is the number of letters in the string. (Different strings may have different length and thus different n.) Each row of the matrix is a one-hot vector (length 26) encoding the corresponding letter. For example, the encoding vector for the letter 'a' should be a vector of all zeros expect that the first entry should be one. The encoding vector for 'b' should have the second entry be one. The function should return a list of matrices, each corresponds to a string in L.   \n",
        "\n",
        "[Use Python and Numpy only. No other packages. If you don't want to build by hand a letter-to-number dictionary, You may use Python function **ord(l)** to obtain the ascii value of the letter l."
      ]
    },
    {
      "cell_type": "code",
      "execution_count": 2,
      "metadata": {
        "id": "fNEPk3sZq0cA"
      },
      "outputs": [],
      "source": [
        "import numpy as np\n",
        "def word_2_vec(L):\n",
        "  vec=[]\n",
        "  for i in L:\n",
        "    length=len(i)\n",
        "    encode_vec=np.zeros((length,26))\n",
        "    for j in range(length):\n",
        "      index=ord(i[j])-97\n",
        "      encode_vec[j][index]=1\n",
        "    vec.append(encode_vec)\n",
        "  return vec\n"
      ]
    },
    {
      "cell_type": "code",
      "execution_count": 3,
      "metadata": {
        "colab": {
          "base_uri": "https://localhost:8080/"
        },
        "id": "UV70TRMdq0cA",
        "outputId": "d262864b-5326-45e5-b3b8-2c5664b42213"
      },
      "outputs": [
        {
          "name": "stdout",
          "output_type": "stream",
          "text": [
            "[[1. 0. 0. 0. 0. 0. 0. 0. 0. 0. 0. 0. 0. 0. 0. 0. 0. 0. 0. 0. 0. 0. 0. 0.\n",
            "  0. 0.]\n",
            " [0. 1. 0. 0. 0. 0. 0. 0. 0. 0. 0. 0. 0. 0. 0. 0. 0. 0. 0. 0. 0. 0. 0. 0.\n",
            "  0. 0.]\n",
            " [0. 0. 1. 0. 0. 0. 0. 0. 0. 0. 0. 0. 0. 0. 0. 0. 0. 0. 0. 0. 0. 0. 0. 0.\n",
            "  0. 0.]]\n",
            "[[0. 0. 0. 0. 0. 0. 0. 0. 0. 0. 0. 0. 0. 0. 0. 0. 0. 0. 0. 1. 0. 0. 0. 0.\n",
            "  0. 0.]\n",
            " [0. 0. 0. 0. 0. 0. 0. 0. 0. 0. 0. 0. 0. 0. 1. 0. 0. 0. 0. 0. 0. 0. 0. 0.\n",
            "  0. 0.]]\n",
            "[[0. 0. 0. 0. 0. 0. 0. 0. 0. 0. 0. 0. 0. 0. 0. 0. 0. 0. 0. 0. 0. 1. 0. 0.\n",
            "  0. 0.]\n",
            " [0. 0. 0. 0. 1. 0. 0. 0. 0. 0. 0. 0. 0. 0. 0. 0. 0. 0. 0. 0. 0. 0. 0. 0.\n",
            "  0. 0.]\n",
            " [0. 0. 1. 0. 0. 0. 0. 0. 0. 0. 0. 0. 0. 0. 0. 0. 0. 0. 0. 0. 0. 0. 0. 0.\n",
            "  0. 0.]]\n"
          ]
        }
      ],
      "source": [
        "for m in word_2_vec(['abc', 'to', 'vec']):\n",
        "    print(m)"
      ]
    },
    {
      "cell_type": "markdown",
      "metadata": {
        "id": "az9U6pdFq0cB"
      },
      "source": [
        "### IMDb dataset\n"
      ]
    },
    {
      "cell_type": "code",
      "execution_count": 10,
      "metadata": {
        "colab": {
          "base_uri": "https://localhost:8080/"
        },
        "id": "p98BPNmaAjz4",
        "outputId": "911bfd26-0a94-4e5c-a035-f03b51dab475"
      },
      "outputs": [
        {
          "name": "stdout",
          "output_type": "stream",
          "text": [
            "25000 train sequences\n",
            "25000 test sequences\n"
          ]
        }
      ],
      "source": [
        "from keras.datasets import imdb\n",
        "\n",
        "max_features = 20000  # use only this number of words (most common words) and ignore others\n",
        "maxlen = 80  # make all review the same length (cutting longer ones and padding shorter ones)\n",
        "\n",
        "(x_train, y_train), (x_test, y_test) = imdb.load_data(num_words=max_features)\n",
        "print(len(x_train), 'train sequences')\n",
        "print(len(x_test), 'test sequences')"
      ]
    },
    {
      "cell_type": "code",
      "execution_count": 11,
      "metadata": {
        "colab": {
          "base_uri": "https://localhost:8080/"
        },
        "id": "e9Aje3MkCkaH",
        "outputId": "e11d8e58-4d8a-4e90-e31f-06bc95df8b27"
      },
      "outputs": [
        {
          "name": "stdout",
          "output_type": "stream",
          "text": [
            "1 19999\n"
          ]
        }
      ],
      "source": [
        "min_id = min([min(x) for x in x_train])\n",
        "max_id = max([max(x) for x in x_train])\n",
        "print(min_id, max_id)"
      ]
    },
    {
      "cell_type": "markdown",
      "metadata": {
        "id": "4FNPLZCzq0cC"
      },
      "source": [
        "### Task 2\n",
        "\n",
        "Build a model to classify text. The inputs are imdb reviews and your model should read a review and predict whether the review is positive (1) or negative (0). Note that in the data, each review is a list of numbers (not words).\n",
        "\n"
      ]
    },
    {
      "cell_type": "markdown",
      "metadata": {
        "id": "IeeXmoE5Dafi"
      },
      "source": [
        "#### Task 2.1\n",
        "\n",
        "Preprocess the data to make the sequence the same length (as defined by maxlen above).\n",
        "After preprocessing, turn x_train and x_test into tensors so that you can create PyTorch dataloaders from these tensors."
      ]
    },
    {
      "cell_type": "code",
      "execution_count": 12,
      "metadata": {
        "colab": {
          "base_uri": "https://localhost:8080/"
        },
        "id": "YGCrbyz2q0cE",
        "outputId": "19328de9-664e-4e41-b863-a38603618ca1"
      },
      "outputs": [
        {
          "name": "stdout",
          "output_type": "stream",
          "text": [
            "Using device: cuda\n"
          ]
        }
      ],
      "source": [
        "device = torch.device(\"cuda\" if torch.cuda.is_available() else \"cpu\")\n",
        "print(\"Using device:\", device)\n",
        "x_train = [np.array(seq[:maxlen] + [0] * max(0, maxlen - len(seq)), dtype=np.int64) for seq in x_train]\n",
        "x_test = [np.array(seq[:maxlen] + [0] * max(0, maxlen - len(seq)), dtype=np.int64) for seq in x_test]\n",
        "x_train=torch.tensor(np.array(x_train)).to(device)\n",
        "x_test=torch.tensor(np.array(x_test)).to(device)\n",
        "y_train = torch.tensor(y_train).to(device)\n",
        "y_test = torch.tensor(y_test).to(device)"
      ]
    },
    {
      "cell_type": "markdown",
      "metadata": {
        "id": "P-wFFlWQq0cE"
      },
      "source": [
        "#### Task 2.2\n",
        "\n",
        "Build a model (subclass of nn.Module) with two layers of LSTM (each has 128 neurons/cells) for the text classification. Note that:\n",
        " - We don't use the word number as input directly. You need to use an embedding layer (nn.Embedding) to translate the word (number) into an vector. (You can set the length of the vector to be 128.)  \n",
        " - After going through the LSTM layers, give the LSTM output at the last position to a linear output layer to compute the probability of positive/negative.\n",
        "\n"
      ]
    },
    {
      "cell_type": "code",
      "execution_count": 15,
      "metadata": {
        "id": "DAYnQ0unTEoT"
      },
      "outputs": [],
      "source": [
        "from torch.utils.data import TensorDataset, DataLoader\n",
        "train_data = TensorDataset(x_train, y_train)\n",
        "test_data = TensorDataset(x_test, y_test)\n",
        "train_loader = DataLoader(train_data, batch_size=64, shuffle=True)\n",
        "test_loader = DataLoader(test_data)\n",
        "class LSTMclassifier(nn.Module):\n",
        "  def __init__(self,input_size,embedding_dim,hidden_dim,output_dim):\n",
        "    super().__init__()\n",
        "    self.embedding=nn.Embedding(input_size,embedding_dim)\n",
        "    self.lstm1=nn.LSTM(embedding_dim,hidden_dim,batch_first=True)\n",
        "    self.lstm2=nn.LSTM(hidden_dim,hidden_dim,batch_first=True)\n",
        "    self.linear=nn.Linear(hidden_dim,output_dim)\n",
        "\n",
        "  def forward(self,x):\n",
        "    embedded_inp=self.embedding(x)\n",
        "    lstm_out1,_=self.lstm1(embedded_inp)\n",
        "    lstm_out2,_=self.lstm2(lstm_out1)\n",
        "    last_output=lstm_out2[:,-1,:]\n",
        "    output=self.linear(last_output)\n",
        "    return output\n",
        "\n",
        "input_size=max_features\n",
        "embedding_dim = 128\n",
        "hidden_dim = 128\n",
        "output_dim = 1\n",
        "\n",
        "model = LSTMclassifier(input_size, embedding_dim, hidden_dim, output_dim).to(device)\n",
        "criterion = nn.BCEWithLogitsLoss()\n",
        "optimizer = torch.optim.Adam(model.parameters(), lr=0.001)\n"
      ]
    },
    {
      "cell_type": "markdown",
      "metadata": {
        "id": "uLKvGNuFBhg3"
      },
      "source": [
        "#### Task 2.3\n",
        "\n",
        "After building your model, train it (20 epoches) on the train data and test it on the test data. Print out the accuracy on the test data.  "
      ]
    },
    {
      "cell_type": "code",
      "execution_count": 16,
      "metadata": {
        "colab": {
          "base_uri": "https://localhost:8080/",
          "height": 864
        },
        "id": "2hgeGrHBBrhr",
        "outputId": "abb5dcf6-c1b8-4cd4-aef6-731ee9f2f7d7"
      },
      "outputs": [
        {
          "name": "stdout",
          "output_type": "stream",
          "text": [
            "Epoch 1/20, Training Loss: 0.6727, Test Accuracy: 60.62%\n",
            "Epoch 2/20, Training Loss: 0.6697, Test Accuracy: 50.61%\n",
            "Epoch 3/20, Training Loss: 0.6214, Test Accuracy: 77.06%\n",
            "Epoch 4/20, Training Loss: 0.4530, Test Accuracy: 85.29%\n",
            "Epoch 5/20, Training Loss: 0.3509, Test Accuracy: 89.66%\n",
            "Epoch 6/20, Training Loss: 0.2773, Test Accuracy: 93.20%\n",
            "Epoch 7/20, Training Loss: 0.2134, Test Accuracy: 95.36%\n",
            "Epoch 8/20, Training Loss: 0.1570, Test Accuracy: 97.30%\n",
            "Epoch 9/20, Training Loss: 0.1100, Test Accuracy: 98.20%\n",
            "Epoch 10/20, Training Loss: 0.0797, Test Accuracy: 98.26%\n",
            "Epoch 11/20, Training Loss: 0.0558, Test Accuracy: 98.67%\n",
            "Epoch 12/20, Training Loss: 0.0470, Test Accuracy: 99.01%\n",
            "Epoch 13/20, Training Loss: 0.0410, Test Accuracy: 99.19%\n",
            "Epoch 14/20, Training Loss: 0.0358, Test Accuracy: 99.52%\n",
            "Epoch 15/20, Training Loss: 0.0331, Test Accuracy: 99.52%\n",
            "Epoch 16/20, Training Loss: 0.0244, Test Accuracy: 99.63%\n",
            "Epoch 17/20, Training Loss: 0.0244, Test Accuracy: 99.67%\n",
            "Epoch 18/20, Training Loss: 0.0209, Test Accuracy: 99.65%\n",
            "Epoch 19/20, Training Loss: 0.0171, Test Accuracy: 99.78%\n",
            "Epoch 20/20, Training Loss: 0.0175, Test Accuracy: 99.64%\n"
          ]
        },
        {
          "data": {
            "image/png": "[encoded data removed]",
            "text/plain": [
              "<Figure size 1000x500 with 2 Axes>"
            ]
          },
          "metadata": {},
          "output_type": "display_data"
        }
      ],
      "source": [
        "import matplotlib.pyplot as plt\n",
        "\n",
        "# Training loop\n",
        "epochs = 20\n",
        "train_losses = []\n",
        "test_accuracies = []\n",
        "for epoch in range(epochs):\n",
        "    running_loss = 0.0\n",
        "    model.train()\n",
        "    for inputs, labels in train_loader:\n",
        "        inputs, labels = inputs.to(device), labels.to(device)\n",
        "        optimizer.zero_grad()\n",
        "        outputs = model(inputs)\n",
        "        loss = criterion(outputs.squeeze(), labels.float())\n",
        "        loss.backward()\n",
        "        optimizer.step()\n",
        "        running_loss += loss.item()\n",
        "\n",
        "    epoch_loss = running_loss / len(train_loader)\n",
        "    train_losses.append(epoch_loss)\n",
        "\n",
        "    # Evaluate accuracy on test data\n",
        "    model.eval()\n",
        "    correct = 0\n",
        "    total = 0\n",
        "    with torch.no_grad():\n",
        "        for inputs, labels in test_loader:\n",
        "            inputs, labels = inputs.to(device), labels.to(device)\n",
        "            outputs = model(inputs)\n",
        "            predicted = torch.round(torch.sigmoid(outputs))\n",
        "            total += labels.size(0)\n",
        "            correct += (predicted == labels).sum().item()\n",
        "    accuracy = correct / total\n",
        "    test_accuracies.append(accuracy)\n",
        "    print(f\"Epoch {epoch+1}/{epochs}, Training Loss: {epoch_loss:.4f}, Test Accuracy: {accuracy:.2%}\")\n",
        "\n",
        "plt.figure(figsize=(10, 5))\n",
        "\n",
        "#training loss curve\n",
        "plt.subplot(1, 2, 1)\n",
        "plt.plot(train_losses)\n",
        "plt.xlabel('Epoch')\n",
        "plt.ylabel('Training Loss')\n",
        "plt.title('Training Loss Curve')\n",
        "\n",
        "#test accuracy curve\n",
        "plt.subplot(1, 2, 2)\n",
        "plt.plot(test_accuracies, color='orange')\n",
        "plt.xlabel('Epoch')\n",
        "plt.ylabel('Test Accuracy')\n",
        "plt.title('Test Accuracy Curve')\n",
        "\n",
        "plt.tight_layout()\n",
        "plt.show()\n",
        "\n"
      ]
    },
    {
      "cell_type": "code",
      "execution_count": 17,
      "metadata": {
        "colab": {
          "base_uri": "https://localhost:8080/"
        },
        "id": "fP9PoLGYrE73",
        "outputId": "039471d4-702c-48aa-dbc5-a9d573e6968c"
      },
      "outputs": [
        {
          "name": "stdout",
          "output_type": "stream",
          "text": [
            "Accuracy on test data: 99.64%\n"
          ]
        }
      ],
      "source": [
        "correct = 0\n",
        "total = 0\n",
        "model.eval()\n",
        "with torch.no_grad():\n",
        "    for inputs, labels in test_loader:\n",
        "        inputs, labels = inputs.to(device), labels.to(device)\n",
        "        outputs = model(inputs)\n",
        "        predicted = torch.round(torch.sigmoid(outputs))\n",
        "        total += labels.size(0)\n",
        "        correct += (predicted == labels).sum().item()\n",
        "\n",
        "# Calculate accuracy\n",
        "accuracy = correct / total\n",
        "print(f\"Accuracy on test data: {accuracy:.2%}\")\n"
      ]
    },
    {
      "cell_type": "code",
      "execution_count": null,
      "metadata": {
        "id": "3nYpWIPFrGks"
      },
      "outputs": [],
      "source": []
    }
  ],
  "metadata": {
    "accelerator": "GPU",
    "colab": {
      "gpuType": "T4",
      "provenance": []
    },
    "kernelspec": {
      "display_name": "Python 3",
      "name": "python3"
    },
    "language_info": {
      "codemirror_mode": {
        "name": "ipython",
        "version": 3
      },
      "file_extension": ".py",
      "mimetype": "text/x-python",
      "name": "python",
      "nbconvert_exporter": "python",
      "pygments_lexer": "ipython3",
      "version": "3.7.4"
    }
  },
  "nbformat": 4,
  "nbformat_minor": 0
}
