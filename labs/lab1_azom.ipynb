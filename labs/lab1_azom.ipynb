{
  "cells": [
    {
      "cell_type": "markdown",
      "metadata": {
        "id": "nsjZRFWRYQO_"
      },
      "source": [
        "### Task 1\n",
        "One benefit of using callable object instead of regular function is that callable object lets you keep state between calls. Implement a \"function\" named \"add_count\" that take a number as parameter and return the sum of the parameter and the number of times the function has been called.\n",
        "\n",
        "For example, when the function is called first time,\n",
        "```python\n",
        "add_count(3)\n",
        "```\n",
        "should return 4. Next time it is called,\n",
        "```python\n",
        "add_count(3)\n",
        "```\n",
        "should return 5 and so on. Example outputs are show below."
      ]
    },
    {
      "cell_type": "code",
      "execution_count": 1,
      "metadata": {
        "colab": {
          "base_uri": "https://localhost:8080/"
        },
        "id": "UkWHCnuOYQPB",
        "outputId": "ecb497d8-03af-456b-dea6-3acdde317263"
      },
      "outputs": [
        {
          "name": "stdout",
          "output_type": "stream",
          "text": [
            "4\n",
            "5\n",
            "6\n",
            "9\n",
            "15\n"
          ]
        }
      ],
      "source": [
        "\n",
        "#############\n",
        "class count:\n",
        "    def __init__(self):\n",
        "        self.index=1\n",
        "    def __call__(self,x):\n",
        "        total=x+self.index\n",
        "        self.index+=1\n",
        "        return total\n",
        "add_count=count()\n",
        "## test the 'function'\n",
        "\n",
        "print(add_count(3))\n",
        "print(add_count(3))\n",
        "print(add_count(3))\n",
        "\n",
        "print(add_count(5))\n",
        "print(add_count(10))"
      ]
    },
    {
      "cell_type": "markdown",
      "metadata": {
        "id": "eia9CmisYQPD"
      },
      "source": [
        "### Task 2\n",
        "Implement an iterator class (named **ImageIter**) to go through a collection of images. Each image is saved in a pickle file (.pkl file) in the image directory. One can use your implementation in a loop and loop through the images one at a time. You should give a lazy implementation. That is, the images get read into the memory only when they are needed (i.e., when \\__next__ is called)."
      ]
    },
    {
      "cell_type": "code",
      "execution_count": 3,
      "metadata": {
        "colab": {
          "base_uri": "https://localhost:8080/"
        },
        "id": "G4bE7FTCYQPD",
        "outputId": "8819b1e7-7dfe-4411-8113-f64fd42ea606"
      },
      "outputs": [
        {
          "name": "stdout",
          "output_type": "stream",
          "text": [
            "0 (32, 32, 3)\n",
            "1 (32, 32, 3)\n",
            "2 (32, 32, 3)\n",
            "3 (32, 32, 3)\n",
            "4 (32, 32, 3)\n",
            "5 (32, 32, 3)\n",
            "6 (32, 32, 3)\n",
            "7 (32, 32, 3)\n",
            "8 (32, 32, 3)\n",
            "9 (32, 32, 3)\n"
          ]
        }
      ],
      "source": [
        "from os import listdir\n",
        "from os.path import join\n",
        "import pickle\n",
        "\n",
        "class ImageIter:\n",
        "    def __init__(self,directory):\n",
        "        fns=listdir(directory)\n",
        "        self.fns=[join (directory,f) for f in fns]\n",
        "\n",
        "    def __iter__(self):\n",
        "        self.index=0\n",
        "        return self\n",
        "\n",
        "    def __next__(self):\n",
        "        if self.index < len(self.fns):\n",
        "            image=pickle.load(open(self.fns[self.index], 'rb'))\n",
        "            self.index += 1\n",
        "            return image\n",
        "\n",
        "        else:\n",
        "            raise StopIteration\n",
        "\n",
        "\n",
        "############\n",
        "## Test the iterator\n",
        "t = ImageIter('image_data')\n",
        "for i, m in enumerate(t):\n",
        "    print(i, m.shape)"
      ]
    }
  ],
  "metadata": {
    "colab": {
      "provenance": []
    },
    "kernelspec": {
      "display_name": "Python 3 (ipykernel)",
      "language": "python",
      "name": "python3"
    },
    "language_info": {
      "codemirror_mode": {
        "name": "ipython",
        "version": 3
      },
      "file_extension": ".py",
      "mimetype": "text/x-python",
      "name": "python",
      "nbconvert_exporter": "python",
      "pygments_lexer": "ipython3",
      "version": "3.9.12"
    }
  },
  "nbformat": 4,
  "nbformat_minor": 0
}
